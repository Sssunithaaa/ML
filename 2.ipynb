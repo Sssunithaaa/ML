{
 "cells": [
  {
   "cell_type": "code",
   "execution_count": 2,
   "metadata": {},
   "outputs": [
    {
     "name": "stdout",
     "output_type": "stream",
     "text": [
      "path found:['A', 'B', 'D']\n"
     ]
    },
    {
     "data": {
      "text/plain": [
       "['A', 'B', 'D']"
      ]
     },
     "execution_count": 2,
     "metadata": {},
     "output_type": "execute_result"
    }
   ],
   "source": [
    "class Graph:\n",
    "    def __init__(self,adj_list):\n",
    "        self.adj_list = adj_list\n",
    "    def h(self,n):\n",
    "        H={'A':1,'B':2,'C':3,'D':4}\n",
    "        return H[n]\n",
    "    def get_neighbors(self,v):\n",
    "        return self.adj_list[v]\n",
    "    def a_star_algorithm(self,start,stop):\n",
    "        open_list=set([start])\n",
    "        closed_list = set([])\n",
    "        dist={}\n",
    "        dist[start]=0\n",
    "        prenode={}\n",
    "        prenode[start]=start\n",
    "        while len(open_list) > 0:\n",
    "            n=None\n",
    "            for v in open_list:\n",
    "                if n==None or dist[v]+self.h(v)<dist[n]+self.h(n):\n",
    "                    n=v\n",
    "            if n==None:\n",
    "                print(\"Path doesn't exist\")\n",
    "                return None\n",
    "            if n==stop:\n",
    "                reconstruct_path = []\n",
    "                while prenode[n]!=n:\n",
    "                    reconstruct_path.append(n)\n",
    "                    n=prenode[n]\n",
    "                reconstruct_path.append(start)\n",
    "                reconstruct_path.reverse()\n",
    "                print(\"path found:{}\".format(reconstruct_path))\n",
    "                return reconstruct_path\n",
    "            for (m,weight) in self.get_neighbors(n):\n",
    "                if m not in open_list and m not in closed_list:\n",
    "                    dist[m] = dist[n]+weight\n",
    "                    open_list.add(m)\n",
    "                    prenode[m]=n\n",
    "                else:\n",
    "                    if dist[m]>dist[n]+weight:\n",
    "                        dist[m]=dist[n]+weight\n",
    "                        prenode[m]=n\n",
    "                        if m in closed_list:\n",
    "                            closed_list.remove(m)\n",
    "                            open_list.add(m)\n",
    "            open_list.remove(n)\n",
    "            closed_list.add(n)\n",
    "        print(\"Path doesnot exist\")\n",
    "        return None\n",
    "adj_list ={'A':[('B',1),('C',3),('D',7)],'B':[('D',5)],'C':[('D',12)]}\n",
    "graph1=Graph(adj_list)\n",
    "graph1.a_star_algorithm('A', 'D')\n"
   ]
  },
  {
   "cell_type": "code",
   "execution_count": 3,
   "metadata": {},
   "outputs": [],
   "source": []
  },
  {
   "cell_type": "code",
   "execution_count": 4,
   "metadata": {},
   "outputs": [],
   "source": []
  },
  {
   "cell_type": "code",
   "execution_count": null,
   "metadata": {},
   "outputs": [],
   "source": []
  }
 ],
 "metadata": {
  "kernelspec": {
   "display_name": "Python 3",
   "language": "python",
   "name": "python3"
  },
  "language_info": {
   "codemirror_mode": {
    "name": "ipython",
    "version": 3
   },
   "file_extension": ".py",
   "mimetype": "text/x-python",
   "name": "python",
   "nbconvert_exporter": "python",
   "pygments_lexer": "ipython3",
   "version": "3.11.4"
  }
 },
 "nbformat": 4,
 "nbformat_minor": 2
}
