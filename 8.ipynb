{
 "cells": [
  {
   "cell_type": "code",
   "execution_count": 31,
   "metadata": {},
   "outputs": [],
   "source": [
    "from collections import deque\n",
    "\n",
    "def bfs(graph,start):\n",
    "    visited=set()\n",
    "    queue = deque([start])\n",
    "    visited.add(start)\n",
    "    while queue:\n",
    "        node = queue.popleft()\n",
    "        print(node,end=\" \")\n",
    "        for neighbor in graph[node]:\n",
    "            if neighbor not in visited:\n",
    "                queue.append(neighbor)\n",
    "                visited.add(neighbor)"
   ]
  },
  {
   "cell_type": "code",
   "execution_count": 32,
   "metadata": {},
   "outputs": [],
   "source": [
    "def dfs(graph,node,visited):\n",
    "    if node not in visited:\n",
    "        print(node,end=\" \")\n",
    "        visited.add(node)\n",
    "        for neighbor in graph[node]:\n",
    "            dfs(graph,neighbor,visited)"
   ]
  },
  {
   "cell_type": "code",
   "execution_count": 46,
   "metadata": {},
   "outputs": [],
   "source": [
    "def depth_limited_search(graph, current, goal, depth_limit, visited=None):\n",
    "    if visited is None:\n",
    "        visited = set()\n",
    "\n",
    "    if current == goal:\n",
    "        return [current]\n",
    "\n",
    "    if depth_limit == 0:\n",
    "        return []\n",
    "\n",
    "    if depth_limit > 0:\n",
    "        visited.add(current)\n",
    "        for neighbor in graph[current]:\n",
    "            if neighbor not in visited:\n",
    "                result = depth_limited_search(graph, neighbor, goal, depth_limit - 1, visited)\n",
    "                if result:\n",
    "                    return [current] + result\n",
    "\n",
    "    return []\n",
    "\n"
   ]
  },
  {
   "cell_type": "code",
   "execution_count": 1,
   "metadata": {},
   "outputs": [
    {
     "name": "stdout",
     "output_type": "stream",
     "text": [
      "\n",
      "IDDFS at depth 0:\n",
      "A \n",
      "IDDFS at depth 1:\n",
      "A B C \n",
      "IDDFS at depth 2:\n",
      "A B D E C F G \n",
      "IDDFS at depth 3:\n",
      "A B D E C F G "
     ]
    }
   ],
   "source": [
    "def dfs1(graph, node, visited, depth):\n",
    "    if node not in visited and depth >= 0:\n",
    "        print(node, end=\" \")\n",
    "        visited.add(node)\n",
    "        for neighbor in graph[node]:\n",
    "            dfs1(graph, neighbor, visited, depth - 1)\n",
    "\n",
    "def iddfs(graph, start, max_depth):\n",
    "    for depth_limit in range(max_depth + 1):\n",
    "        visited = set()\n",
    "        print(f\"\\nIDDFS at depth {depth_limit}:\")\n",
    "        dfs1(graph, start, visited, depth_limit)\n",
    "\n",
    "graph = {\n",
    "    'A': ['B', 'C'],\n",
    "    'B': ['A', 'D', 'E'],\n",
    "    'C': ['A', 'F', 'G'],\n",
    "    'D': ['B'],\n",
    "    'E': ['B'],\n",
    "    'F': ['C'],\n",
    "    'G': ['C']\n",
    "}\n",
    "\n",
    "start_node = 'A'\n",
    "maximum_depth = 3\n",
    "iddfs(graph, start_node, maximum_depth)\n"
   ]
  },
  {
   "cell_type": "code",
   "execution_count": 47,
   "metadata": {},
   "outputs": [
    {
     "name": "stdout",
     "output_type": "stream",
     "text": [
      "BFS:\n",
      "A B C D E F G \n",
      "DFS: \n",
      "A B D E C F G \n",
      "DLS:\n",
      "[]\n"
     ]
    }
   ],
   "source": [
    "graph = {\n",
    "    'A': ['B', 'C'],\n",
    "    'B': ['A', 'D', 'E'],\n",
    "    'C': ['A', 'F', 'G'],\n",
    "    'D': ['B'],\n",
    "    'E': ['B'],\n",
    "    'F': ['C'],\n",
    "    'G': ['C']\n",
    "}\n",
    "\n",
    "print(\"BFS:\")\n",
    "bfs(graph, 'A')\n",
    "visited = set()\n",
    "print('\\nDFS: ')\n",
    "dfs(graph,'A',visited)\n",
    "depth_limit = 4\n",
    "max_depth=3\n",
    "print('\\nDLS:')\n",
    "# dls(graph,'A',visited,depth_limit)\n",
    "print(depth_limited_search(graph,'A','G',depth_limit,visited))\n"
   ]
  }
 ],
 "metadata": {
  "kernelspec": {
   "display_name": "Python 3",
   "language": "python",
   "name": "python3"
  },
  "language_info": {
   "codemirror_mode": {
    "name": "ipython",
    "version": 3
   },
   "file_extension": ".py",
   "mimetype": "text/x-python",
   "name": "python",
   "nbconvert_exporter": "python",
   "pygments_lexer": "ipython3",
   "version": "3.11.4"
  }
 },
 "nbformat": 4,
 "nbformat_minor": 2
}
